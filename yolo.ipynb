{
  "cells": [
    {
      "cell_type": "markdown",
      "metadata": {
        "id": "view-in-github",
        "colab_type": "text"
      },
      "source": [
        "<a href=\"https://colab.research.google.com/github/PRAVEEN-CS33/OwlUp/blob/main/yolo.ipynb\" target=\"_parent\"><img src=\"https://colab.research.google.com/assets/colab-badge.svg\" alt=\"Open In Colab\"/></a>"
      ]
    },
    {
      "cell_type": "code",
      "execution_count": null,
      "metadata": {
        "colab": {
          "base_uri": "https://localhost:8080/"
        },
        "id": "udpvJ5Qg2wkG",
        "outputId": "f60fa120-4b95-4f97-a518-bb1b2cbb48d6"
      },
      "outputs": [
        {
          "output_type": "stream",
          "name": "stdout",
          "text": [
            "Mounted at /content/drive\n",
            "/content/drive/MyDrive/Colab Notebooks/yolo\n"
          ]
        }
      ],
      "source": [
        "from google.colab import drive\n",
        "import os\n",
        "#google drive mounting\n",
        "drive.mount('/content/drive')\n",
        "os.chdir('/content/drive/MyDrive/Colab Notebooks/yolo')\n",
        "print(os.getcwd())"
      ]
    },
    {
      "cell_type": "code",
      "execution_count": null,
      "metadata": {
        "id": "IFrO2rR295Zn",
        "colab": {
          "base_uri": "https://localhost:8080/"
        },
        "outputId": "b5d2dd35-5186-46f1-96f4-a2f7f2ce35d5"
      },
      "outputs": [
        {
          "output_type": "stream",
          "name": "stdout",
          "text": [
            "Looking in indexes: https://pypi.org/simple, https://us-python.pkg.dev/colab-wheels/public/simple/\n",
            "Collecting ultralytics\n",
            "  Downloading ultralytics-8.0.105-py3-none-any.whl (586 kB)\n",
            "\u001b[2K     \u001b[90m━━━━━━━━━━━━━━━━━━━━━━━━━━━━━━━━━━━━━━\u001b[0m \u001b[32m586.5/586.5 kB\u001b[0m \u001b[31m22.0 MB/s\u001b[0m eta \u001b[36m0:00:00\u001b[0m\n",
            "\u001b[?25hRequirement already satisfied: matplotlib>=3.2.2 in /usr/local/lib/python3.10/dist-packages (from ultralytics) (3.7.1)\n",
            "Requirement already satisfied: opencv-python>=4.6.0 in /usr/local/lib/python3.10/dist-packages (from ultralytics) (4.7.0.72)\n",
            "Requirement already satisfied: Pillow>=7.1.2 in /usr/local/lib/python3.10/dist-packages (from ultralytics) (8.4.0)\n",
            "Requirement already satisfied: PyYAML>=5.3.1 in /usr/local/lib/python3.10/dist-packages (from ultralytics) (6.0)\n",
            "Requirement already satisfied: requests>=2.23.0 in /usr/local/lib/python3.10/dist-packages (from ultralytics) (2.27.1)\n",
            "Requirement already satisfied: scipy>=1.4.1 in /usr/local/lib/python3.10/dist-packages (from ultralytics) (1.10.1)\n",
            "Requirement already satisfied: torch>=1.7.0 in /usr/local/lib/python3.10/dist-packages (from ultralytics) (2.0.1+cu118)\n",
            "Requirement already satisfied: torchvision>=0.8.1 in /usr/local/lib/python3.10/dist-packages (from ultralytics) (0.15.2+cu118)\n",
            "Requirement already satisfied: tqdm>=4.64.0 in /usr/local/lib/python3.10/dist-packages (from ultralytics) (4.65.0)\n",
            "Requirement already satisfied: pandas>=1.1.4 in /usr/local/lib/python3.10/dist-packages (from ultralytics) (1.5.3)\n",
            "Requirement already satisfied: seaborn>=0.11.0 in /usr/local/lib/python3.10/dist-packages (from ultralytics) (0.12.2)\n",
            "Requirement already satisfied: psutil in /usr/local/lib/python3.10/dist-packages (from ultralytics) (5.9.5)\n",
            "Collecting sentry-sdk (from ultralytics)\n",
            "  Downloading sentry_sdk-1.23.1-py2.py3-none-any.whl (205 kB)\n",
            "\u001b[2K     \u001b[90m━━━━━━━━━━━━━━━━━━━━━━━━━━━━━━━━━━━━━━\u001b[0m \u001b[32m205.1/205.1 kB\u001b[0m \u001b[31m26.2 MB/s\u001b[0m eta \u001b[36m0:00:00\u001b[0m\n",
            "\u001b[?25hRequirement already satisfied: contourpy>=1.0.1 in /usr/local/lib/python3.10/dist-packages (from matplotlib>=3.2.2->ultralytics) (1.0.7)\n",
            "Requirement already satisfied: cycler>=0.10 in /usr/local/lib/python3.10/dist-packages (from matplotlib>=3.2.2->ultralytics) (0.11.0)\n",
            "Requirement already satisfied: fonttools>=4.22.0 in /usr/local/lib/python3.10/dist-packages (from matplotlib>=3.2.2->ultralytics) (4.39.3)\n",
            "Requirement already satisfied: kiwisolver>=1.0.1 in /usr/local/lib/python3.10/dist-packages (from matplotlib>=3.2.2->ultralytics) (1.4.4)\n",
            "Requirement already satisfied: numpy>=1.20 in /usr/local/lib/python3.10/dist-packages (from matplotlib>=3.2.2->ultralytics) (1.22.4)\n",
            "Requirement already satisfied: packaging>=20.0 in /usr/local/lib/python3.10/dist-packages (from matplotlib>=3.2.2->ultralytics) (23.1)\n",
            "Requirement already satisfied: pyparsing>=2.3.1 in /usr/local/lib/python3.10/dist-packages (from matplotlib>=3.2.2->ultralytics) (3.0.9)\n",
            "Requirement already satisfied: python-dateutil>=2.7 in /usr/local/lib/python3.10/dist-packages (from matplotlib>=3.2.2->ultralytics) (2.8.2)\n",
            "Requirement already satisfied: pytz>=2020.1 in /usr/local/lib/python3.10/dist-packages (from pandas>=1.1.4->ultralytics) (2022.7.1)\n",
            "Requirement already satisfied: urllib3<1.27,>=1.21.1 in /usr/local/lib/python3.10/dist-packages (from requests>=2.23.0->ultralytics) (1.26.15)\n",
            "Requirement already satisfied: certifi>=2017.4.17 in /usr/local/lib/python3.10/dist-packages (from requests>=2.23.0->ultralytics) (2022.12.7)\n",
            "Requirement already satisfied: charset-normalizer~=2.0.0 in /usr/local/lib/python3.10/dist-packages (from requests>=2.23.0->ultralytics) (2.0.12)\n",
            "Requirement already satisfied: idna<4,>=2.5 in /usr/local/lib/python3.10/dist-packages (from requests>=2.23.0->ultralytics) (3.4)\n",
            "Requirement already satisfied: filelock in /usr/local/lib/python3.10/dist-packages (from torch>=1.7.0->ultralytics) (3.12.0)\n",
            "Requirement already satisfied: typing-extensions in /usr/local/lib/python3.10/dist-packages (from torch>=1.7.0->ultralytics) (4.5.0)\n",
            "Requirement already satisfied: sympy in /usr/local/lib/python3.10/dist-packages (from torch>=1.7.0->ultralytics) (1.11.1)\n",
            "Requirement already satisfied: networkx in /usr/local/lib/python3.10/dist-packages (from torch>=1.7.0->ultralytics) (3.1)\n",
            "Requirement already satisfied: jinja2 in /usr/local/lib/python3.10/dist-packages (from torch>=1.7.0->ultralytics) (3.1.2)\n",
            "Requirement already satisfied: triton==2.0.0 in /usr/local/lib/python3.10/dist-packages (from torch>=1.7.0->ultralytics) (2.0.0)\n",
            "Requirement already satisfied: cmake in /usr/local/lib/python3.10/dist-packages (from triton==2.0.0->torch>=1.7.0->ultralytics) (3.25.2)\n",
            "Requirement already satisfied: lit in /usr/local/lib/python3.10/dist-packages (from triton==2.0.0->torch>=1.7.0->ultralytics) (16.0.5)\n",
            "Requirement already satisfied: six>=1.5 in /usr/local/lib/python3.10/dist-packages (from python-dateutil>=2.7->matplotlib>=3.2.2->ultralytics) (1.16.0)\n",
            "Requirement already satisfied: MarkupSafe>=2.0 in /usr/local/lib/python3.10/dist-packages (from jinja2->torch>=1.7.0->ultralytics) (2.1.2)\n",
            "Requirement already satisfied: mpmath>=0.19 in /usr/local/lib/python3.10/dist-packages (from sympy->torch>=1.7.0->ultralytics) (1.3.0)\n",
            "Installing collected packages: sentry-sdk, ultralytics\n",
            "Successfully installed sentry-sdk-1.23.1 ultralytics-8.0.105\n",
            "Looking in indexes: https://pypi.org/simple, https://us-python.pkg.dev/colab-wheels/public/simple/\n",
            "Collecting supervision\n",
            "  Downloading supervision-0.8.0-py3-none-any.whl (42 kB)\n",
            "\u001b[2K     \u001b[90m━━━━━━━━━━━━━━━━━━━━━━━━━━━━━━━━━━━━━━━━\u001b[0m \u001b[32m42.1/42.1 kB\u001b[0m \u001b[31m5.8 MB/s\u001b[0m eta \u001b[36m0:00:00\u001b[0m\n",
            "\u001b[?25hRequirement already satisfied: numpy>=1.20.0 in /usr/local/lib/python3.10/dist-packages (from supervision) (1.22.4)\n",
            "Requirement already satisfied: opencv-python in /usr/local/lib/python3.10/dist-packages (from supervision) (4.7.0.72)\n",
            "Requirement already satisfied: matplotlib in /usr/local/lib/python3.10/dist-packages (from supervision) (3.7.1)\n",
            "Requirement already satisfied: pyyaml in /usr/local/lib/python3.10/dist-packages (from supervision) (6.0)\n",
            "Requirement already satisfied: contourpy>=1.0.1 in /usr/local/lib/python3.10/dist-packages (from matplotlib->supervision) (1.0.7)\n",
            "Requirement already satisfied: cycler>=0.10 in /usr/local/lib/python3.10/dist-packages (from matplotlib->supervision) (0.11.0)\n",
            "Requirement already satisfied: fonttools>=4.22.0 in /usr/local/lib/python3.10/dist-packages (from matplotlib->supervision) (4.39.3)\n",
            "Requirement already satisfied: kiwisolver>=1.0.1 in /usr/local/lib/python3.10/dist-packages (from matplotlib->supervision) (1.4.4)\n",
            "Requirement already satisfied: packaging>=20.0 in /usr/local/lib/python3.10/dist-packages (from matplotlib->supervision) (23.1)\n",
            "Requirement already satisfied: pillow>=6.2.0 in /usr/local/lib/python3.10/dist-packages (from matplotlib->supervision) (8.4.0)\n",
            "Requirement already satisfied: pyparsing>=2.3.1 in /usr/local/lib/python3.10/dist-packages (from matplotlib->supervision) (3.0.9)\n",
            "Requirement already satisfied: python-dateutil>=2.7 in /usr/local/lib/python3.10/dist-packages (from matplotlib->supervision) (2.8.2)\n",
            "Requirement already satisfied: six>=1.5 in /usr/local/lib/python3.10/dist-packages (from python-dateutil>=2.7->matplotlib->supervision) (1.16.0)\n",
            "Installing collected packages: supervision\n",
            "Successfully installed supervision-0.8.0\n",
            "Looking in indexes: https://pypi.org/simple, https://us-python.pkg.dev/colab-wheels/public/simple/\n",
            "Requirement already satisfied: geopy in /usr/local/lib/python3.10/dist-packages (2.3.0)\n",
            "Requirement already satisfied: geographiclib<3,>=1.52 in /usr/local/lib/python3.10/dist-packages (from geopy) (2.0)\n",
            "Looking in indexes: https://pypi.org/simple, https://us-python.pkg.dev/colab-wheels/public/simple/\n",
            "Collecting twilio\n",
            "  Downloading twilio-8.2.1-py2.py3-none-any.whl (1.7 MB)\n",
            "\u001b[2K     \u001b[90m━━━━━━━━━━━━━━━━━━━━━━━━━━━━━━━━━━━━━━━━\u001b[0m \u001b[32m1.7/1.7 MB\u001b[0m \u001b[31m42.6 MB/s\u001b[0m eta \u001b[36m0:00:00\u001b[0m\n",
            "\u001b[?25hRequirement already satisfied: pytz in /usr/local/lib/python3.10/dist-packages (from twilio) (2022.7.1)\n",
            "Requirement already satisfied: requests>=2.0.0 in /usr/local/lib/python3.10/dist-packages (from twilio) (2.27.1)\n",
            "Collecting PyJWT<3.0.0,>=2.0.0 (from twilio)\n",
            "  Downloading PyJWT-2.7.0-py3-none-any.whl (22 kB)\n",
            "Collecting aiohttp>=3.8.4 (from twilio)\n",
            "  Downloading aiohttp-3.8.4-cp310-cp310-manylinux_2_17_x86_64.manylinux2014_x86_64.whl (1.0 MB)\n",
            "\u001b[2K     \u001b[90m━━━━━━━━━━━━━━━━━━━━━━━━━━━━━━━━━━━━━━━━\u001b[0m \u001b[32m1.0/1.0 MB\u001b[0m \u001b[31m62.4 MB/s\u001b[0m eta \u001b[36m0:00:00\u001b[0m\n",
            "\u001b[?25hCollecting aiohttp-retry>=2.8.3 (from twilio)\n",
            "  Downloading aiohttp_retry-2.8.3-py3-none-any.whl (9.8 kB)\n",
            "Requirement already satisfied: attrs>=17.3.0 in /usr/local/lib/python3.10/dist-packages (from aiohttp>=3.8.4->twilio) (23.1.0)\n",
            "Requirement already satisfied: charset-normalizer<4.0,>=2.0 in /usr/local/lib/python3.10/dist-packages (from aiohttp>=3.8.4->twilio) (2.0.12)\n",
            "Collecting multidict<7.0,>=4.5 (from aiohttp>=3.8.4->twilio)\n",
            "  Downloading multidict-6.0.4-cp310-cp310-manylinux_2_17_x86_64.manylinux2014_x86_64.whl (114 kB)\n",
            "\u001b[2K     \u001b[90m━━━━━━━━━━━━━━━━━━━━━━━━━━━━━━━━━━━━━━\u001b[0m \u001b[32m114.5/114.5 kB\u001b[0m \u001b[31m15.5 MB/s\u001b[0m eta \u001b[36m0:00:00\u001b[0m\n",
            "\u001b[?25hCollecting async-timeout<5.0,>=4.0.0a3 (from aiohttp>=3.8.4->twilio)\n",
            "  Downloading async_timeout-4.0.2-py3-none-any.whl (5.8 kB)\n",
            "Collecting yarl<2.0,>=1.0 (from aiohttp>=3.8.4->twilio)\n",
            "  Downloading yarl-1.9.2-cp310-cp310-manylinux_2_17_x86_64.manylinux2014_x86_64.whl (268 kB)\n",
            "\u001b[2K     \u001b[90m━━━━━━━━━━━━━━━━━━━━━━━━━━━━━━━━━━━━━━\u001b[0m \u001b[32m268.8/268.8 kB\u001b[0m \u001b[31m29.8 MB/s\u001b[0m eta \u001b[36m0:00:00\u001b[0m\n",
            "\u001b[?25hCollecting frozenlist>=1.1.1 (from aiohttp>=3.8.4->twilio)\n",
            "  Downloading frozenlist-1.3.3-cp310-cp310-manylinux_2_5_x86_64.manylinux1_x86_64.manylinux_2_17_x86_64.manylinux2014_x86_64.whl (149 kB)\n",
            "\u001b[2K     \u001b[90m━━━━━━━━━━━━━━━━━━━━━━━━━━━━━━━━━━━━━━\u001b[0m \u001b[32m149.6/149.6 kB\u001b[0m \u001b[31m22.3 MB/s\u001b[0m eta \u001b[36m0:00:00\u001b[0m\n",
            "\u001b[?25hCollecting aiosignal>=1.1.2 (from aiohttp>=3.8.4->twilio)\n",
            "  Downloading aiosignal-1.3.1-py3-none-any.whl (7.6 kB)\n",
            "Requirement already satisfied: urllib3<1.27,>=1.21.1 in /usr/local/lib/python3.10/dist-packages (from requests>=2.0.0->twilio) (1.26.15)\n",
            "Requirement already satisfied: certifi>=2017.4.17 in /usr/local/lib/python3.10/dist-packages (from requests>=2.0.0->twilio) (2022.12.7)\n",
            "Requirement already satisfied: idna<4,>=2.5 in /usr/local/lib/python3.10/dist-packages (from requests>=2.0.0->twilio) (3.4)\n",
            "Installing collected packages: PyJWT, multidict, frozenlist, async-timeout, yarl, aiosignal, aiohttp, aiohttp-retry, twilio\n",
            "Successfully installed PyJWT-2.7.0 aiohttp-3.8.4 aiohttp-retry-2.8.3 aiosignal-1.3.1 async-timeout-4.0.2 frozenlist-1.3.3 multidict-6.0.4 twilio-8.2.1 yarl-1.9.2\n"
          ]
        }
      ],
      "source": [
        "!pip install ultralytics\n",
        "!pip install supervision\n",
        "!pip install geopy\n",
        "!pip install twilio\n",
        "# !git clone https://github.com/ultralytics/ultralytics\n",
        "# !pip install roboflow"
      ]
    },
    {
      "cell_type": "code",
      "execution_count": null,
      "metadata": {
        "id": "nbyHyBQ1u_wd"
      },
      "outputs": [],
      "source": [
        "import cv2\n",
        "import numpy as np\n",
        "import matplotlib.pyplot as plt\n",
        "\n",
        "# Read the input image\n",
        "img = cv2.imread('/content/IMG20220406002301.jpg')\n",
        "\n",
        "# Convert the image to grayscale\n",
        "gray = cv2.cvtColor(img, cv2.COLOR_BGR2GRAY)\n",
        "\n",
        "# Apply a false color map\n",
        "colormap = cv2.COLORMAP_JET\n",
        "thermal = cv2.applyColorMap(gray, colormap)\n",
        "cv2.imwrite('/content/gray_image.jpg', thermal)\n",
        "# Display the output image\n",
        "# plt.imshow('Thermal Image', thermal)\n",
        "# cv2.waitKey(0)\n",
        "# cv2.destroyAllWindows()"
      ]
    },
    {
      "cell_type": "code",
      "execution_count": null,
      "metadata": {
        "id": "GImzUmG-ZmFc"
      },
      "outputs": [],
      "source": [
        "!unzip '/content/drive/MyDrive/Copy of anomaly_image.zip' -d '/content/drive/MyDrive/Colab Notebooks/yolo/dataset'"
      ]
    },
    {
      "cell_type": "code",
      "execution_count": null,
      "metadata": {
        "id": "A1zgPpVkvAz8"
      },
      "outputs": [],
      "source": [
        "from roboflow import Roboflow\n",
        "#dataset download from Roboflow\n",
        "rf = Roboflow(api_key=\"KQSYBMVR3uU9mYfiP6ER\")\n",
        "project = rf.workspace(\"saad-salman\").project(\"gun_dataset_6\")\n",
        "dataset = project.version(5).download(\"yolov8\")"
      ]
    },
    {
      "cell_type": "code",
      "execution_count": null,
      "metadata": {
        "id": "n2UN4G2F0XXD"
      },
      "outputs": [],
      "source": [
        "from ultralytics import YOLO\n",
        "#loading, training, validate the model \n",
        "model = YOLO('yolov8l.pt')\n",
        "model.train(data='/content/drive/MyDrive/Colab Notebooks/yolo/dataset/anomaly_image/data.yaml', epochs=5 , imgsz=640)\n",
        "model.val()"
      ]
    },
    {
      "cell_type": "code",
      "execution_count": null,
      "metadata": {
        "id": "C54b0IHYlRXa"
      },
      "outputs": [],
      "source": [
        "from ultralytics import YOLO\n",
        "#load the best model & prediction\n",
        "model = YOLO('/content/drive/MyDrive/Colab Notebooks/yolo/runs/detect/train6/weights/best.pt')\n",
        "model.predict('/content/drive/MyDrive/Colab Notebooks/yolo/dataset/anomaly/train/images/3_mp4-63_jpg.rf.63e9f3baa13de2c847bd5ba3ca4048a6.jpg', save=True, imgsz=320, conf=0.1)"
      ]
    },
    {
      "cell_type": "code",
      "execution_count": null,
      "metadata": {
        "colab": {
          "base_uri": "https://localhost:8080/"
        },
        "id": "-9o1_Bvi7nt_",
        "outputId": "d428966d-cdee-4751-c641-e4d49b0d1f26"
      },
      "outputs": [
        {
          "output_type": "stream",
          "name": "stdout",
          "text": [
            "1\n"
          ]
        }
      ],
      "source": [
        "import smtplib\n",
        "from email.mime.multipart import MIMEMultipart\n",
        "from email.mime.image import MIMEImage\n",
        "from email.mime.text import MIMEText\n",
        "from email.mime.base import MIMEBase\n",
        "from email import encoders\n",
        "from geopy.geocoders import Nominatim\n",
        "from datetime import datetime\n",
        "from twilio.rest import Client\n",
        "import geopy\n",
        "import time\n",
        "import csv\n",
        "\n",
        "\n",
        "def loc_time():\n",
        "\n",
        "  geolocator = geopy.Nominatim(user_agent=\"my_app\", timeout=10)\n",
        "\n",
        "  location = geolocator.geocode(\"Coimbatore\")\n",
        "\n",
        "  # locname = geolocator.reverse(f\"{location.latitude}, {location.longitude}\")\n",
        "  latitude = location.latitude\n",
        "  longitude = location.longitude\n",
        "\n",
        "  address = \" WXQ5+58F, BK Pudur, Sugunapuram East, Kuniyamuthur, Tamil Nadu 641008\"\n",
        "\n",
        "  now = datetime.now()\n",
        "  date = now.date()\n",
        "  time = now.time()\n",
        "\n",
        "  return ([latitude,longitude,address,date,time])\n",
        "# print(loc_time()[3])\n",
        "# print(loc_time()[4])\n",
        "\n",
        "def alert_mail(Incident):\n",
        "\n",
        "  msg = MIMEMultipart()\n",
        "  msg['From'] = '727721eucs107@skcet.ac.in'\n",
        "  msg['To'] = '727721eucs107@skcet.ac.in'\n",
        "  msg['Subject'] = '⚠Crime Alert'\n",
        "\n",
        "  # message body\n",
        "  # Latitude: {latitude}\\nLongitude: {longitude}\\nAddress: {address}\\nDate: {date}\\nTime: {time}\n",
        "\n",
        "  msg.attach(MIMEText(f\"Details of the detected crime :\\n\\nCamera_Id : 1\\nIncident  : {Incident}\\nLatitude  : {loc_time()[0]}\\nLongitude : {loc_time()[1]}\\nAddress   : {loc_time()[2]}\\nDate      : {loc_time()[3]}\\nTime      : {loc_time()[4]}\\nLevel     : High\"))\n",
        "\n",
        "  # Attach the image\n",
        "  # with open(img, 'rb') as f:\n",
        "  #   img = MIMEImage(f.read())\n",
        "  #   msg.attach(img)\n",
        "    \n",
        "  video_file = '/content/drive/MyDrive/Colab Notebooks/evidence.mp4'\n",
        "\n",
        "  with open(video_file, 'rb') as f:\n",
        "       video_data = f.read()\n",
        "\n",
        "  # # Attach the video file to the email\n",
        "  part = MIMEBase('application', 'octet-stream')\n",
        "  part.set_payload(video_data)\n",
        "  encoders.encode_base64(part)\n",
        "  part.add_header('Content-Disposition', f'attachment; filename=\"{os.path.basename(video_file)}\"')\n",
        "  msg.attach(part)\n",
        "\n",
        "  # Connect to SMTP server and send email\n",
        "  smtp_server = 'smtp.gmail.com'\n",
        "  smtp_port = 587\n",
        "\n",
        "  smtp_username = '727721eucs107@skcet.ac.in'\n",
        "  smtp_password = 'tskpraveen@skcet33'\n",
        "\n",
        "  smtp_conn = smtplib.SMTP(smtp_server, smtp_port)\n",
        "  smtp_conn.starttls()\n",
        "  smtp_conn.login(smtp_username, smtp_password)\n",
        "  smtp_conn.sendmail(msg['From'], msg['To'], msg.as_string())\n",
        "  smtp_conn.quit()\n",
        "  print(\"Alert sent\")\n",
        "  \n",
        "print(1)\n",
        "def call():\n",
        "\n",
        "  account_sid = 'AC3f19fc87f8c5d0d3f6d25e2a05fe08b4'\n",
        "  auth_token = '077c6666955a4ca319623c312c6fafd6'\n",
        "  client = Client(account_sid, auth_token)\n",
        "\n",
        "  call = client.calls.create(\n",
        "                        twiml='<Response><Say voice=\"alice\">  Hello, this is a high risk alert for this area . and Details of this alert have been sent via email. Thank youu </Say></Response>',\n",
        "                        to='+91 8098167783',\n",
        "                        from_='+91 8098167783'\n",
        "                    )\n",
        "  message = client.messages.create(\n",
        "                        to='+91 8098167783', \n",
        "                        from_='+14407501802', \n",
        "                        body=\"Hello, this is a high-risk alert from WXQ5+58F, BK Pudur, Sugunapuram East, Kuniyamuthur, Tamil Nadu 641008. More Details of this alert have been sent via email. Thank you.\"\n",
        "                    )\n",
        "  print(call.sid)\n",
        "# call()\n",
        "# def database():\n",
        "\n",
        "#   id = 1;\n",
        "#   # data = ['Camera_Id', 'Incident', 'Latitude','Longitude', 'Address', 'Date', 'Time', 'Level']\n",
        "#   data = [id,'Theft', '11.0018115', '76.9628425',' WXQ5+58F, BK Pudur, Sugunapuram East, Kuniyamuthur, Tamil Nadu 641008',' 2023-03-28', '07:33:35.012395', 'High']\n",
        "#   with open('/content/drive/MyDrive/Colab Notebooks/yolo/database/data.csv', 'a') as f:\n",
        "#     writer = csv.writer(f)\n",
        "#     # row = ','.join(str(x) for x in data) + '\\n'\n",
        "#     writer.writerow(data)\n",
        "#     id +=1\n",
        "\n",
        "# res = {\n",
        "#     'Camera_Id' : 1, \n",
        "#     'Incident': \"Theft\",\n",
        "#     'Latitude': loc_time()[0] ,\n",
        "#     'Longitude': loc_time()[1],\n",
        "#     'Address': loc_time()[2],\n",
        "#     'Date': f\"{loc_time()[3]}\", \n",
        "#     'Time': f\"{loc_time()[4]}\",\n",
        "#     'Level':\"High\"\n",
        "# }\n",
        "# print(res)\n",
        "# # alert_mail(\"t\")\n",
        "# # call()\n",
        "# # loc_time()"
      ]
    },
    {
      "cell_type": "code",
      "execution_count": null,
      "metadata": {
        "id": "USqRikVgv727",
        "colab": {
          "base_uri": "https://localhost:8080/"
        },
        "outputId": "8b5a8869-9e42-43cd-fa3f-48b281e02e9b"
      },
      "outputs": [
        {
          "output_type": "stream",
          "name": "stderr",
          "text": [
            "\n",
            "0: 480x640 1 gun, 52.0ms\n",
            "Speed: 1.8ms preprocess, 52.0ms inference, 1.5ms postprocess per image at shape (1, 3, 640, 640)\n"
          ]
        },
        {
          "output_type": "stream",
          "name": "stdout",
          "text": [
            "CA96b7ba325776756947183a04850ce4e5\n"
          ]
        },
        {
          "output_type": "stream",
          "name": "stderr",
          "text": [
            "WARNING ⚠️ 'source' is missing. Using 'source=https://ultralytics.com/images/bus.jpg'.\n",
            "\n",
            "Found https://ultralytics.com/images/bus.jpg locally at bus.jpg\n"
          ]
        },
        {
          "output_type": "stream",
          "name": "stdout",
          "text": [
            "Alert sent\n"
          ]
        },
        {
          "output_type": "stream",
          "name": "stderr",
          "text": [
            "image 1/1 /content/drive/MyDrive/Colab Notebooks/yolo/bus.jpg: 640x480 (no detections), 98.2ms\n",
            "Speed: 3.0ms preprocess, 98.2ms inference, 0.8ms postprocess per image at shape (1, 3, 640, 640)\n"
          ]
        }
      ],
      "source": [
        "from ultralytics import YOLO\n",
        "import supervision as sv\n",
        "import numpy as np\n",
        "import cv2\n",
        "\n",
        "def main():\n",
        "\n",
        "  cap = cv2.VideoCapture('/content/drive/MyDrive/Colab Notebooks/yolo/dataset/CCTV Footage/1.mp4')\n",
        "  # cap.set(cv2.CAP_PROP_FRAME_WIDTH, 1280)\n",
        "  # cap.set(cv2.CAP_PROP_FRAME_HEIGHT, 720)\n",
        "\n",
        "  model = YOLO('/content/drive/MyDrive/Colab Notebooks/yolo/runs/detect/train6/weights/best.pt')\n",
        "\n",
        "  while True:\n",
        "     red, frame = cap.read()\n",
        "\n",
        "     result = model(frame, agnostic_nms=True)[0]\n",
        "     detection = sv.Detections.from_yolov8(result)\n",
        "\n",
        "     class_ids = [0,1,2,3,4,5,6,7,8]\n",
        "     mask = np.in1d(detection.class_id, class_ids)\n",
        "     detection = detection[mask]\n",
        "     \n",
        "     result = any(x == y for x in detection.class_id for y in class_ids)\n",
        "     if (result):\n",
        "\n",
        "      #  cv2.imwrite('/content/drive/MyDrive/Colab Notebooks/yolo/pred/frame1.jpg', frame)\n",
        "\n",
        "       temp_cap = cap\n",
        "\n",
        "       current_frame = int(cap.get(cv2.CAP_PROP_POS_FRAMES))\n",
        "\n",
        "       fps = temp_cap.get(cv2.CAP_PROP_FPS)\n",
        "\n",
        "       start_frame = max(current_frame - 300, 0)\n",
        "       end_frame = current_frame + 300\n",
        "\n",
        "       out_path = '/content/drive/MyDrive/Colab Notebooks/evidence.mp4'\n",
        "       fourcc = cv2.VideoWriter_fourcc(*'mp4v')\n",
        "\n",
        "       out = cv2.VideoWriter(out_path, fourcc, fps, (int(temp_cap.get(3)), int(temp_cap.get(4))))\n",
        "\n",
        "       temp_cap.set(cv2.CAP_PROP_POS_FRAMES, start_frame)\n",
        "\n",
        "       while cap.isOpened():\n",
        "           ret, frame = temp_cap.read()\n",
        "           if ret:\n",
        "               out.write(frame)\n",
        "\n",
        "               if cap.get(cv2.CAP_PROP_POS_FRAMES) == end_frame:\n",
        "                   break\n",
        "           else:\n",
        "               break\n",
        "       \n",
        "\n",
        "       temp_cap.release()\n",
        "       out.release()\n",
        "\n",
        "       call()\n",
        "       alert_mail(str(detection.class_id))\n",
        "      #  database()\n",
        "       \n",
        "     if not red:\n",
        "       break\n",
        "     if cv2.waitKey(25) & 0xFF == ord('q'):\n",
        "       break\n",
        "     \n",
        "    #  cap.release()\n",
        "\n",
        "if __name__ == '__main__':\n",
        "  main()"
      ]
    },
    {
      "cell_type": "code",
      "execution_count": null,
      "metadata": {
        "id": "hC1czIkfMNu1"
      },
      "outputs": [],
      "source": [
        "res = {\n",
        "    'Camera_Id' : 1, \n",
        "    'Incident': \"Theft\",\n",
        "    'Latitude': loc_time()[0] ,\n",
        "    'Longitude': loc_time()[1],\n",
        "    'Address': loc_time()[2],\n",
        "    'Date': f\"{loc_time()[3]}\", \n",
        "    'Time': f\"{loc_time()[4]}\",\n",
        "    'Level':\"High\"\n",
        "}\n",
        "print(res)"
      ]
    },
    {
      "cell_type": "code",
      "execution_count": null,
      "metadata": {
        "id": "d7LyKOmEcPDr"
      },
      "outputs": [],
      "source": [
        "!pip install pyngrok==4.1.1\n",
        "!pip install flask_ngrok\n",
        "!ngrok authtoken \"2OCQLU3la21DNSDu4kvJIWAbTum_6TCGp3z9Ys1ajDk7UdF2t\" \n",
        "!pip install flask-cors\n",
        "!pip install flask-socketio"
      ]
    },
    {
      "cell_type": "code",
      "execution_count": null,
      "metadata": {
        "colab": {
          "background_save": true,
          "base_uri": "https://localhost:8080/"
        },
        "id": "-Bo5gcbkcH4S",
        "outputId": "863c2293-b2cc-4125-ae27-d1a8c544ecc3"
      },
      "outputs": [
        {
          "name": "stdout",
          "output_type": "stream",
          "text": [
            " * Serving Flask app '__main__'\n",
            " * Debug mode: off\n"
          ]
        },
        {
          "name": "stderr",
          "output_type": "stream",
          "text": [
            "INFO:werkzeug:\u001b[31m\u001b[1mWARNING: This is a development server. Do not use it in a production deployment. Use a production WSGI server instead.\u001b[0m\n",
            " * Running on http://127.0.0.1:5000\n",
            "INFO:werkzeug:\u001b[33mPress CTRL+C to quit\u001b[0m\n"
          ]
        },
        {
          "name": "stdout",
          "output_type": "stream",
          "text": [
            " * Running on http://0681-35-237-241-136.ngrok-free.app\n",
            " * Traffic stats available on http://127.0.0.1:4040\n"
          ]
        }
      ],
      "source": [
        "from flask_ngrok import run_with_ngrok\n",
        "from flask import Flask, request, jsonify\n",
        "from flask_cors import CORS, cross_origin\n",
        "from flask_socketio import SocketIO\n",
        "\n",
        "app = Flask(__name__)\n",
        "socketio = SocketIO(app, cors_allowed_origins='*')\n",
        "run_with_ngrok(app)\n",
        "CORS(app)\n",
        "\n",
        "@socketio.on('event_name')\n",
        "def handle_event(data):\n",
        "    # Process the data and emit a response\n",
        "    response_data = {'message': 'Response from server'}\n",
        "    socketio.emit('response_event', response_data)\n",
        "\n",
        "@app.route('/', methods=['POST', 'GET'])\n",
        "@cross_origin(origins=['http://localhost:3000', 'https://example.com'], headers=['Content-Type', 'Authorization'])\n",
        "def predict():\n",
        "    response = jsonify({'data': 'Hello, World!'})\n",
        "    socketio.emit('response_event', {'message': 'Hello from server'})\n",
        "    return response\n",
        "  \n",
        "if __name__ == '__main__':\n",
        "    app.run()\n",
        "\n",
        "\n",
        "\n",
        "# @app.route('/', methods=['POST', 'GET'])\n",
        "# def predict():\n",
        "#     response = jsonify({'data': 'Hello, World!'})\n",
        "#     return response\n",
        "\n",
        "# @socketio.on('event_name')\n",
        "# def handle_event(data):\n",
        "#     response_data = {'message': 'Hello from server'}\n",
        "#     emit('response_event', response_data)\n"
      ]
    },
    {
      "cell_type": "markdown",
      "metadata": {
        "id": "HQiLHqlsjv0D"
      },
      "source": [
        "### **Audio classifier**"
      ]
    },
    {
      "cell_type": "markdown",
      "metadata": {
        "id": "_yGCumPokQyr"
      },
      "source": [
        "**Install dependencies**"
      ]
    },
    {
      "cell_type": "code",
      "execution_count": null,
      "metadata": {
        "id": "7DeYrHxNj2qN"
      },
      "outputs": [],
      "source": [
        "!pip install tensorflow tensorflow-gpu tensorflow-io matplotlib"
      ]
    },
    {
      "cell_type": "markdown",
      "metadata": {
        "id": "i2GSxwVGl6tW"
      },
      "source": [
        "load de"
      ]
    },
    {
      "cell_type": "markdown",
      "metadata": {
        "id": "xjc9mmJif1wA"
      },
      "source": [
        "### **check**"
      ]
    },
    {
      "cell_type": "code",
      "execution_count": null,
      "metadata": {
        "id": "3oRGSaPmNrqu"
      },
      "outputs": [],
      "source": [
        "import folium\n",
        "from geopy.geocoders import Nominatim\n",
        "\n",
        "# create a geolocator object\n",
        "geolocator = Nominatim(user_agent=\"my_app\")\n",
        "\n",
        "# use the geolocator to get the current location based on IP address\n",
        "location = geolocator.geocode(\"\")\n",
        "\n",
        "# create a folium map centered on the current location\n",
        "m = folium.Map(location=[location.latitude, location.longitude], zoom_start=5)\n",
        "\n",
        "# add a marker for the current location\n",
        "folium.Marker([location.latitude, location.longitude]).add_to(m)\n",
        "\n",
        "# display the map\n",
        "m"
      ]
    },
    {
      "cell_type": "code",
      "execution_count": null,
      "metadata": {
        "id": "n5d9RYoXliaA"
      },
      "outputs": [],
      "source": [
        "import cv2\n",
        "\n",
        "cap = cv2.VideoCapture('/content/drive/MyDrive/Colab Notebooks/yolo/Screenrecording_20230327_120501 (online-video-cutter.com).mp4')\n",
        "\n",
        "temp_cap = cap\n",
        "\n",
        "current_frame = int(cap.get(cv2.CAP_PROP_POS_FRAMES))\n",
        "\n",
        "fps = temp_cap.get(cv2.CAP_PROP_FPS)\n",
        "\n",
        "start_frame = max(current_frame - 900, 0)\n",
        "end_frame = current_frame + 900\n",
        "\n",
        "out_path = '/content/drive/MyDrive/Colab Notebooks/yolo/pred/clip.mp4'\n",
        "fourcc = cv2.VideoWriter_fourcc(*'mp4v')\n",
        "\n",
        "out = cv2.VideoWriter(out_path, fourcc, fps, (int(temp_cap.get(3)), int(temp_cap.get(4))))\n",
        "\n",
        "temp_cap.set(cv2.CAP_PROP_POS_FRAMES, start_frame)\n",
        "\n",
        "while cap.isOpened():\n",
        "    ret, frame = temp_cap.read()\n",
        "    if ret:\n",
        "        out.write(frame)\n",
        "\n",
        "        if cap.get(cv2.CAP_PROP_POS_FRAMES) == end_frame:\n",
        "            break\n",
        "    else:\n",
        "        break\n",
        "\n",
        "temp_cap.release()\n",
        "out.release()\n",
        "cv2.destroyAllWindows()\n"
      ]
    },
    {
      "cell_type": "code",
      "execution_count": null,
      "metadata": {
        "id": "IVslvKa63koT"
      },
      "outputs": [],
      "source": [
        "import io\n",
        "import base64\n",
        "from IPython.display import HTML\n",
        "import ipywidgets as widgets\n",
        "import cv2\n",
        "\n",
        "# Load the video file\n",
        "video_path = '/content/drive/MyDrive/Colab Notebooks/yolo/pred/output.mp4'\n",
        "# video_path = cv2.VideoCapture(0)\n",
        "video_file = io.open(video_path, 'r+b').read()\n",
        "\n",
        "# Encode the video as base64\n",
        "video_url = base64.b64encode(video_file).decode()\n",
        "\n",
        "# Create the HTML video player\n",
        "html = \"\"\"\n",
        "<video width=\"480\" height=\"360\" controls>\n",
        "  <source src=\"data:video/mp4;base64,{0}\" type=\"video/mp4\">\n",
        "</video>\n",
        "\"\"\".format(video_url)\n",
        "\n",
        "# Display the video player\n",
        "HTML(html)\n"
      ]
    },
    {
      "cell_type": "code",
      "execution_count": null,
      "metadata": {
        "colab": {
          "base_uri": "https://localhost:8080/"
        },
        "id": "57BmvCCjGxPm",
        "outputId": "438bb380-8d5a-4c41-e7a7-05497a8beeb0"
      },
      "outputs": [
        {
          "data": {
            "text/plain": [
              "(11.0018115, 76.9628425)"
            ]
          },
          "execution_count": 3,
          "metadata": {},
          "output_type": "execute_result"
        }
      ],
      "source": [
        "import geopy\n",
        "import time\n",
        "\n",
        "geolocator = geopy.Nominatim(user_agent=\"my_app\", timeout=10)\n",
        "\n",
        "def get_location(address):\n",
        "    try:\n",
        "        location = geolocator.geocode(address)\n",
        "        return location.latitude, location.longitude\n",
        "    except geopy.exc.GeocoderUnavailable:\n",
        "        time.sleep(5)\n",
        "        return get_location(address)\n",
        "get_location('Coimbatore')\n"
      ]
    },
    {
      "cell_type": "markdown",
      "metadata": {
        "id": "kY-5JcAZx03W"
      },
      "source": [
        "### **CLI**"
      ]
    },
    {
      "cell_type": "code",
      "execution_count": null,
      "metadata": {
        "id": "U52gmbOIyW8o"
      },
      "outputs": [],
      "source": [
        "from ultralytics import YOLO"
      ]
    },
    {
      "cell_type": "code",
      "execution_count": null,
      "metadata": {
        "id": "QWqfs5_LxzPz"
      },
      "outputs": [],
      "source": [
        "!yolo detect train data='/content/drive/MyDrive/Colab Notebooks/yolo/gun_dataset_6-5/data.yaml' model=yolov8n.pt epochs=100 imgsz=640"
      ]
    },
    {
      "cell_type": "code",
      "execution_count": null,
      "metadata": {
        "id": "WDfhYzP7ypxe"
      },
      "outputs": [],
      "source": [
        "!yolo detect val model='/content/drive/MyDrive/Colab Notebooks/yolo/runs/detect/train/weights/best.pt'"
      ]
    },
    {
      "cell_type": "code",
      "execution_count": null,
      "metadata": {
        "id": "wM4lO0oOzAJX"
      },
      "outputs": [],
      "source": [
        "!yolo detect predict model='/content/drive/MyDrive/Colab Notebooks/yolo/runs/detect/train/weights/best.pt' source='/content/drive/MyDrive/Colab Notebooks/yolo/gun_dataset_6-5/train/images/11-015_jpg.rf.303a9d03e06481203201291e61d3f8cd.jpg'"
      ]
    },
    {
      "cell_type": "code",
      "execution_count": null,
      "metadata": {
        "id": "SES3YPy05HCd"
      },
      "outputs": [],
      "source": [
        "model = YOLO('/content/drive/MyDrive/Colab Notebooks/yolo/runs/detect/train/weights/best.pt')\n",
        "model.predict(source='/content/drive/MyDrive/Colab Notebooks/yolo/gun-131126.mp4', save = True)"
      ]
    }
  ],
  "metadata": {
    "colab": {
      "collapsed_sections": [
        "HQiLHqlsjv0D",
        "xjc9mmJif1wA",
        "kY-5JcAZx03W"
      ],
      "provenance": [],
      "gpuType": "T4",
      "include_colab_link": true
    },
    "gpuClass": "standard",
    "kernelspec": {
      "display_name": "Python 3",
      "name": "python3"
    },
    "language_info": {
      "name": "python"
    },
    "accelerator": "GPU"
  },
  "nbformat": 4,
  "nbformat_minor": 0
}